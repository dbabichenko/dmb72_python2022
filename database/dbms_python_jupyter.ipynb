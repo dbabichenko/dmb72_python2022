{
 "cells": [
  {
   "cell_type": "code",
   "execution_count": 1,
   "metadata": {},
   "outputs": [],
   "source": [
    "import pymysql.cursors\n",
    "import pandas as pd\n",
    "import datetime\n",
    "import uuid\n",
    "import numpy as np\n",
    "from itertools import combinations\n"
   ]
  },
  {
   "cell_type": "code",
   "execution_count": 2,
   "metadata": {},
   "outputs": [],
   "source": [
    "#db_connection = sql.connect(host='localhost', database='benedict', user='root', password='artema2')\n",
    "# Connect to the database\n",
    "db_connection = pymysql.connect(host='134.209.169.96',\n",
    "                             user='is2710practice',\n",
    "                             password='!s2710Pra6t1c3',\n",
    "                             db='test',\n",
    "                             charset='utf8mb4',\n",
    "                             cursorclass=pymysql.cursors.DictCursor)"
   ]
  },
  {
   "cell_type": "markdown",
   "metadata": {},
   "source": [
    "### Selecting results into a Pandas dataframe"
   ]
  },
  {
   "cell_type": "code",
   "execution_count": 3,
   "metadata": {},
   "outputs": [
    {
     "data": {
      "text/html": [
       "<div>\n",
       "<style scoped>\n",
       "    .dataframe tbody tr th:only-of-type {\n",
       "        vertical-align: middle;\n",
       "    }\n",
       "\n",
       "    .dataframe tbody tr th {\n",
       "        vertical-align: top;\n",
       "    }\n",
       "\n",
       "    .dataframe thead th {\n",
       "        text-align: right;\n",
       "    }\n",
       "</style>\n",
       "<table border=\"1\" class=\"dataframe\">\n",
       "  <thead>\n",
       "    <tr style=\"text-align: right;\">\n",
       "      <th></th>\n",
       "      <th>book_id</th>\n",
       "      <th>first_name</th>\n",
       "      <th>last_name</th>\n",
       "      <th>number_of_books</th>\n",
       "      <th>dob</th>\n",
       "    </tr>\n",
       "  </thead>\n",
       "  <tbody>\n",
       "    <tr>\n",
       "      <th>0</th>\n",
       "      <td>1</td>\n",
       "      <td>John</td>\n",
       "      <td>Doe</td>\n",
       "      <td>5</td>\n",
       "      <td>2021-02-15</td>\n",
       "    </tr>\n",
       "    <tr>\n",
       "      <th>1</th>\n",
       "      <td>2</td>\n",
       "      <td>Jane</td>\n",
       "      <td>Smith</td>\n",
       "      <td>65</td>\n",
       "      <td>2021-02-15</td>\n",
       "    </tr>\n",
       "    <tr>\n",
       "      <th>2</th>\n",
       "      <td>3</td>\n",
       "      <td>Stephen</td>\n",
       "      <td>King</td>\n",
       "      <td>400</td>\n",
       "      <td>1947-09-21</td>\n",
       "    </tr>\n",
       "    <tr>\n",
       "      <th>3</th>\n",
       "      <td>5</td>\n",
       "      <td>Stephen</td>\n",
       "      <td>King</td>\n",
       "      <td>400</td>\n",
       "      <td>1947-09-21</td>\n",
       "    </tr>\n",
       "    <tr>\n",
       "      <th>4</th>\n",
       "      <td>6</td>\n",
       "      <td>Stephen</td>\n",
       "      <td>King</td>\n",
       "      <td>400</td>\n",
       "      <td>1947-09-21</td>\n",
       "    </tr>\n",
       "  </tbody>\n",
       "</table>\n",
       "</div>"
      ],
      "text/plain": [
       "   book_id first_name last_name  number_of_books         dob\n",
       "0        1       John       Doe                5  2021-02-15\n",
       "1        2       Jane     Smith               65  2021-02-15\n",
       "2        3    Stephen      King              400  1947-09-21\n",
       "3        5    Stephen      King              400  1947-09-21\n",
       "4        6    Stephen      King              400  1947-09-21"
      ]
     },
     "execution_count": 3,
     "metadata": {},
     "output_type": "execute_result"
    }
   ],
   "source": [
    "qry = \"SELECT * FROM books;\"\n",
    "books_df = pd.read_sql(qry, con=db_connection)\n",
    "books_df"
   ]
  },
  {
   "cell_type": "markdown",
   "metadata": {},
   "source": [
    "### Selecting results using a pymysql cursor"
   ]
  },
  {
   "cell_type": "code",
   "execution_count": 11,
   "metadata": {},
   "outputs": [
    {
     "name": "stdout",
     "output_type": "stream",
     "text": [
      "1 John Doe\n",
      "2 Jane Smith\n",
      "3 Stephen King\n",
      "5 Stephen King\n",
      "6 Stephen King\n"
     ]
    }
   ],
   "source": [
    "con = pymysql.connect(host='134.209.169.96',\n",
    "                             user='is2710practice',\n",
    "                             password='!s2710Pra6t1c3',\n",
    "                             db='test',\n",
    "                             charset='utf8mb4',\n",
    "                             cursorclass=pymysql.cursors.DictCursor)\n",
    "try:\n",
    "\n",
    "    with con.cursor() as cur:\n",
    "\n",
    "        cur.execute('SELECT * FROM books')\n",
    "\n",
    "        rows = cur.fetchall()\n",
    "\n",
    "        for row in rows:\n",
    "            print(row['book_id'], row['first_name'], row['last_name'])\n",
    "\n",
    "finally:\n",
    "\n",
    "    con.close()"
   ]
  },
  {
   "cell_type": "code",
   "execution_count": 15,
   "metadata": {},
   "outputs": [],
   "source": [
    "def find_user(user_id):\n",
    "    con = pymysql.connect(host='134.209.169.96',\n",
    "                             user='is2710practice',\n",
    "                             password='!s2710Pra6t1c3',\n",
    "                             db='test',\n",
    "                             charset='utf8mb4',\n",
    "                             cursorclass=pymysql.cursors.DictCursor)\n",
    "    try:\n",
    "\n",
    "        with con.cursor() as cur:\n",
    "            qry = 'SELECT * FROM users WHERE user_id = ' + str(user_id)\n",
    "            print(qry)\n",
    "            \n",
    "            cur.execute(qry)\n",
    "            \n",
    "            rows = cur.fetchall()\n",
    "            if(len(rows) > 0):\n",
    "                print(\"Found user\")\n",
    "            else:\n",
    "                print(\"User does not exist\")\n",
    "            \n",
    "    finally:\n",
    "\n",
    "        con.close()"
   ]
  },
  {
   "cell_type": "code",
   "execution_count": 19,
   "metadata": {},
   "outputs": [],
   "source": [
    "#find_user('3; DROP TABLE users;')"
   ]
  },
  {
   "cell_type": "markdown",
   "metadata": {},
   "source": [
    "### Escaping parameters"
   ]
  },
  {
   "cell_type": "code",
   "execution_count": 20,
   "metadata": {},
   "outputs": [
    {
     "name": "stdout",
     "output_type": "stream",
     "text": [
      "John Doe\n"
     ]
    }
   ],
   "source": [
    "con = pymysql.connect(host='134.209.169.96',\n",
    "                             user='is2710practice',\n",
    "                             password='!s2710Pra6t1c3',\n",
    "                             db='test',\n",
    "                             charset='utf8mb4',\n",
    "                             cursorclass=pymysql.cursors.DictCursor)\n",
    "\n",
    "\n",
    "book_id = 1\n",
    "\n",
    "try: \n",
    "\n",
    "    with con.cursor() as cur:\n",
    "        cur.execute('SELECT * FROM books WHERE book_id=%s', book_id) \n",
    "        \n",
    "        rows = cur.fetchall()\n",
    "\n",
    "        for row in rows:\n",
    "            print(row['first_name'], row['last_name'])\n",
    "finally:\n",
    "\n",
    "    con.close()"
   ]
  },
  {
   "cell_type": "markdown",
   "metadata": {},
   "source": [
    "### Insert a row with PyMySQL"
   ]
  },
  {
   "cell_type": "code",
   "execution_count": 21,
   "metadata": {},
   "outputs": [],
   "source": [
    "con = pymysql.connect(host='134.209.169.96',\n",
    "                             user='is2710practice',\n",
    "                             password='!s2710Pra6t1c3',\n",
    "                             db='test',\n",
    "                             charset='utf8mb4',\n",
    "                             cursorclass=pymysql.cursors.DictCursor)\n",
    "\n",
    "\n",
    "\n",
    "try: \n",
    "\n",
    "    with con.cursor() as cur:\n",
    "        qry = 'INSERT INTO books (book_id, first_name, last_name, number_of_books, dob)'\n",
    "        qry = qry + 'VALUES(%s, %s, %s, %s, %s)'\n",
    "\n",
    "        cur.execute(qry, (13, 'Stephen', 'King', 400, '1947-09-21')) \n",
    "        con.commit()\n",
    "\n",
    "finally:\n",
    "\n",
    "    con.close()\n"
   ]
  },
  {
   "cell_type": "markdown",
   "metadata": {},
   "source": [
    "### Update a MySQL table with PyMySQL"
   ]
  },
  {
   "cell_type": "code",
   "execution_count": 22,
   "metadata": {},
   "outputs": [],
   "source": [
    "con = pymysql.connect(host='134.209.169.96',\n",
    "                             user='is2710practice',\n",
    "                             password='!s2710Pra6t1c3',\n",
    "                             db='test',\n",
    "                             charset='utf8mb4',\n",
    "                             cursorclass=pymysql.cursors.DictCursor)\n",
    "\n",
    "\n",
    "\n",
    "try: \n",
    "\n",
    "    with con.cursor() as cur:\n",
    "        qry = 'UPDATE books SET first_name = %s WHERE book_id = %s'\n",
    "\n",
    "        cur.execute(qry, ('Bob', 3)) \n",
    "        con.commit()\n",
    "\n",
    "finally:\n",
    "\n",
    "    con.close()\n"
   ]
  },
  {
   "cell_type": "markdown",
   "metadata": {},
   "source": [
    "### Delete from a MySQL table with PyMySQL"
   ]
  },
  {
   "cell_type": "code",
   "execution_count": 23,
   "metadata": {},
   "outputs": [],
   "source": [
    "con = pymysql.connect(host='134.209.169.96',\n",
    "                             user='is2710practice',\n",
    "                             password='!s2710Pra6t1c3',\n",
    "                             db='test',\n",
    "                             charset='utf8mb4',\n",
    "                             cursorclass=pymysql.cursors.DictCursor)\n",
    "\n",
    "\n",
    "\n",
    "try: \n",
    "\n",
    "    with con.cursor() as cur:\n",
    "        qry = 'DELETE FROM books WHERE book_id = %s'\n",
    "\n",
    "        cur.execute(qry, (3)) \n",
    "        con.commit()\n",
    "\n",
    "finally:\n",
    "\n",
    "    con.close()\n"
   ]
  },
  {
   "cell_type": "code",
   "execution_count": null,
   "metadata": {},
   "outputs": [],
   "source": []
  }
 ],
 "metadata": {
  "kernelspec": {
   "display_name": "Python 3",
   "language": "python",
   "name": "python3"
  },
  "language_info": {
   "codemirror_mode": {
    "name": "ipython",
    "version": 3
   },
   "file_extension": ".py",
   "mimetype": "text/x-python",
   "name": "python",
   "nbconvert_exporter": "python",
   "pygments_lexer": "ipython3",
   "version": "3.8.8"
  }
 },
 "nbformat": 4,
 "nbformat_minor": 2
}
