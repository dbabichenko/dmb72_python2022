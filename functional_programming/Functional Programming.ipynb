{
 "cells": [
  {
   "cell_type": "markdown",
   "id": "82fa0701",
   "metadata": {},
   "source": [
    "### Pure Functions"
   ]
  },
  {
   "cell_type": "markdown",
   "id": "a39bff85",
   "metadata": {},
   "source": [
    "The function below is not pure: it has a side effect as it modifies the argument it is given.\n"
   ]
  },
  {
   "cell_type": "code",
   "execution_count": 5,
   "id": "5b92639d",
   "metadata": {},
   "outputs": [],
   "source": [
    "def remove_last_item(mylist):\n",
    "    \"\"\"Removes the last item from a list.\"\"\"\n",
    "    mylist.pop(-1)  # This modifies mylist"
   ]
  },
  {
   "cell_type": "markdown",
   "id": "f491b04f",
   "metadata": {},
   "source": [
    "The function below is a pure function. It returns the list without the last element without modifying the original list.\n",
    "\n",
    "Instead, it returns a copy of the list that has the modifications in place, allowing us to keep the original. \n"
   ]
  },
  {
   "cell_type": "code",
   "execution_count": 6,
   "id": "e2eca916",
   "metadata": {},
   "outputs": [],
   "source": [
    "def remove_last_item(mylist):\n",
    "    # Returns the list without the last element.\n",
    "    return mylist[:-1]  # This returns a copy of mylist"
   ]
  },
  {
   "cell_type": "markdown",
   "id": "946ba7c1",
   "metadata": {},
   "source": [
    "### Recursion"
   ]
  },
  {
   "cell_type": "markdown",
   "id": "021df01b",
   "metadata": {},
   "source": [
    "The following function calculates a sum of all values in a list. It is **NOT** a recursive function"
   ]
  },
  {
   "cell_type": "code",
   "execution_count": 8,
   "id": "02d56731",
   "metadata": {},
   "outputs": [],
   "source": [
    "def sum_list(L):      \n",
    "    result = 0\n",
    "    for item in L:\n",
    "        result += item      \n",
    "    return result"
   ]
  },
  {
   "cell_type": "code",
   "execution_count": 9,
   "id": "7f5bdffa",
   "metadata": {},
   "outputs": [
    {
     "name": "stdout",
     "output_type": "stream",
     "text": [
      "15\n"
     ]
    }
   ],
   "source": [
    "# Driver's code\n",
    "L = [1, 2, 3, 4, 5]\n",
    "print(sum_list(L))"
   ]
  },
  {
   "cell_type": "markdown",
   "id": "e236c80d",
   "metadata": {},
   "source": [
    "The following function calculates a sum of all values in a list. It IS a **recursive** function"
   ]
  },
  {
   "cell_type": "code",
   "execution_count": 10,
   "id": "7dde5112",
   "metadata": {},
   "outputs": [],
   "source": [
    "def sum_list(L, i, n, count):      \n",
    "    # Base case\n",
    "    if n <= i:\n",
    "        return count\n",
    "      \n",
    "    count += L[i]\n",
    "      \n",
    "    # Going into the recursion\n",
    "    count = sum_list(L, i + 1, n, count)\n",
    "      \n",
    "    return count"
   ]
  },
  {
   "cell_type": "code",
   "execution_count": 11,
   "id": "4869bc0a",
   "metadata": {},
   "outputs": [
    {
     "name": "stdout",
     "output_type": "stream",
     "text": [
      "15\n"
     ]
    }
   ],
   "source": [
    "# Driver's code\n",
    "L = [1, 2, 3, 4, 5]\n",
    "count = 0\n",
    "n = len(L)\n",
    "print(sum_list(L, 0, n, count))"
   ]
  },
  {
   "cell_type": "markdown",
   "id": "466e9bf5",
   "metadata": {},
   "source": [
    "### Higher-Order Function Example"
   ]
  },
  {
   "cell_type": "code",
   "execution_count": 1,
   "id": "aa19cf33",
   "metadata": {},
   "outputs": [],
   "source": [
    "def shout(text): \n",
    "    return text.upper() "
   ]
  },
  {
   "cell_type": "code",
   "execution_count": 2,
   "id": "59e14194",
   "metadata": {},
   "outputs": [],
   "source": [
    "def whisper(text): \n",
    "    return text.lower() "
   ]
  },
  {
   "cell_type": "code",
   "execution_count": 3,
   "id": "443c3902",
   "metadata": {},
   "outputs": [],
   "source": [
    "def greet(func): \n",
    "    # storing the function in a variable \n",
    "    greeting = func(\"Hi, I am created by a function passed as an argument.\") \n",
    "    print(greeting)  \n"
   ]
  },
  {
   "cell_type": "code",
   "execution_count": 4,
   "id": "de6d1bb0",
   "metadata": {},
   "outputs": [
    {
     "name": "stdout",
     "output_type": "stream",
     "text": [
      "HI, I AM CREATED BY A FUNCTION PASSED AS AN ARGUMENT.\n",
      "hi, i am created by a function passed as an argument.\n"
     ]
    }
   ],
   "source": [
    "greet(shout) \n",
    "greet(whisper) "
   ]
  },
  {
   "cell_type": "markdown",
   "id": "e59de649",
   "metadata": {},
   "source": [
    "### Map() function\n",
    "* A Python built-in function. \n",
    "* With map(), you can apply a function to each element in an iterable in turn, and map() will return an iterator that yields the results. \n",
    "* This can allow for some very concise code because a _map()_ statement can often take the place of an explicit loop.\n",
    "\n",
    "* map() function returns a list of the results after applying the given function to each item of a given iterable (list, tuple etc.)\n",
    "* **Syntax**: map(fun, iter)\n",
    "* **Parameters**:\n",
    "    * **fun**: It is a function to which map passes each element of given iterable.\n",
    "    * **iter**: It is a iterable which is to be mapped.\n",
    "    * **Return Type**: Returns an iterator of map class.\n"
   ]
  },
  {
   "cell_type": "code",
   "execution_count": 12,
   "id": "2eace774",
   "metadata": {},
   "outputs": [],
   "source": [
    "# Return double of n \n",
    "def addition(n): \n",
    "    return n + n "
   ]
  },
  {
   "cell_type": "code",
   "execution_count": 13,
   "id": "56eccbad",
   "metadata": {},
   "outputs": [],
   "source": [
    "# We double all numbers using map() \n",
    "numbers = (1, 2, 3, 4) \n",
    "results = map(addition, numbers) "
   ]
  },
  {
   "cell_type": "code",
   "execution_count": 14,
   "id": "0bdc65b5",
   "metadata": {},
   "outputs": [
    {
     "name": "stdout",
     "output_type": "stream",
     "text": [
      "<map object at 0x7fb7906081f0>\n"
     ]
    }
   ],
   "source": [
    "# Does not Print the value\n",
    "print(results)"
   ]
  },
  {
   "cell_type": "code",
   "execution_count": 15,
   "id": "7537ecdd",
   "metadata": {
    "scrolled": true
   },
   "outputs": [
    {
     "name": "stdout",
     "output_type": "stream",
     "text": [
      "2 4 6 8 "
     ]
    }
   ],
   "source": [
    "# For Printing value\n",
    "for result in results:\n",
    "    print(result, end = \" \")"
   ]
  },
  {
   "cell_type": "markdown",
   "id": "a41a3912",
   "metadata": {},
   "source": [
    "**Calling _map()_ With a Single Iterable**\n",
    "The syntax for calling map() on a single iterable looks like this:\n",
    "\n",
    "_map(\\<f\\>, \\<iterable\\>)_\n",
    "\n",
    "map(\\<f\\>, \\<iterable\\>) returns in iterator that yields the results of applying function <\\f\\> to each element of <\\iterable\\>."
   ]
  },
  {
   "cell_type": "markdown",
   "id": "5f9c83bc",
   "metadata": {},
   "source": [
    "**Example**. \n",
    "Suppose you’ve defined reverse(), a function that takes a string argument and returns its reverse, using the [::-1] string slicing mechanism:\n"
   ]
  },
  {
   "cell_type": "code",
   "execution_count": 54,
   "id": "09dac1da",
   "metadata": {},
   "outputs": [
    {
     "data": {
      "text/plain": [
       "'gnirts a ma I'"
      ]
     },
     "execution_count": 54,
     "metadata": {},
     "output_type": "execute_result"
    }
   ],
   "source": [
    "def reverse(s):\n",
    "    return s[::-1]\n",
    "\n",
    "reverse(\"I am a string\")"
   ]
  },
  {
   "cell_type": "markdown",
   "id": "9de146b7",
   "metadata": {},
   "source": [
    "If you have a list of strings, then you can use map() to apply reverse() to each element of the list:"
   ]
  },
  {
   "cell_type": "code",
   "execution_count": 55,
   "id": "a92741ec",
   "metadata": {},
   "outputs": [
    {
     "data": {
      "text/plain": [
       "<map at 0x7fb7404866a0>"
      ]
     },
     "execution_count": 55,
     "metadata": {},
     "output_type": "execute_result"
    }
   ],
   "source": [
    "animals = [\"cat\", \"dog\", \"hedgehog\", \"gecko\"]\n",
    "iterator = map(reverse, animals)\n",
    "iterator"
   ]
  },
  {
   "cell_type": "markdown",
   "id": "75f00844",
   "metadata": {},
   "source": [
    "**Note:** map() doesn’t return a list. It returns an iterator called a map object. To obtain the values from the iterator, you need to either iterate over it or use list():"
   ]
  },
  {
   "cell_type": "code",
   "execution_count": 56,
   "id": "42f3309f",
   "metadata": {},
   "outputs": [
    {
     "name": "stdout",
     "output_type": "stream",
     "text": [
      "tac\n",
      "god\n",
      "gohegdeh\n",
      "okceg\n"
     ]
    }
   ],
   "source": [
    "iterator = map(reverse, animals)\n",
    "for i in iterator:\n",
    "    print(i)\n"
   ]
  },
  {
   "cell_type": "code",
   "execution_count": 57,
   "id": "7a365d5f",
   "metadata": {},
   "outputs": [
    {
     "data": {
      "text/plain": [
       "['tac', 'god', 'gohegdeh', 'okceg']"
      ]
     },
     "execution_count": 57,
     "metadata": {},
     "output_type": "execute_result"
    }
   ],
   "source": [
    "iterator = map(reverse, animals)\n",
    "list(iterator)\n"
   ]
  },
  {
   "cell_type": "markdown",
   "id": "d32316f2",
   "metadata": {},
   "source": [
    "**Calling map() With Multiple Iterables**\n",
    "\n",
    "There’s another form of map() that takes more than one iterable argument:\n",
    "\n",
    " _map(\\<f\\>, \\<iterable₁\\>, \\<iterable₂\\>, ..., \\<iterableₙ\\>)\n",
    " _map(\\<f\\>, \\<iterable₁\\>, \\<iterable₂\\>, ..., \\<iterableₙ\\>) applies \\<f\\> to the elements in each \\<iterablei\\> in parallel and returns an iterator that yields the results.\n",
    "\n",
    "* The number of \\<iterablei\\> arguments specified to map() must match the number of arguments that \\<f\\> expects. \n",
    "* \\<f\\> acts on the first item of each \\<iterablei\\>, and that result becomes the first item that the return iterator yields. \n",
    "* Then \\<f\\> acts on the second item in each \\<iterablei\\>, and that becomes the second yielded item, and so on."
   ]
  },
  {
   "cell_type": "code",
   "execution_count": 58,
   "id": "20b42197",
   "metadata": {},
   "outputs": [
    {
     "data": {
      "text/plain": [
       "[111, 222, 333]"
      ]
     },
     "execution_count": 58,
     "metadata": {},
     "output_type": "execute_result"
    }
   ],
   "source": [
    "def f(a, b, c):\n",
    "    return a + b + c\n",
    "\n",
    "list(map(f, [1, 2, 3], [10, 20, 30], [100, 200, 300]))"
   ]
  },
  {
   "cell_type": "markdown",
   "id": "a412cf1b",
   "metadata": {},
   "source": [
    "* In this case, _f()_ takes three arguments. \n",
    "* Correspondingly, there are three iterable arguments to map(): the lists [1, 2, 3], [10, 20, 30], and [100, 200, 300].\n",
    "* The first item returned is the result of applying _f()_ to the first element in each list: f(1, 10, 100). \n",
    "* The second item returned is f(2, 20, 200)\n",
    "* The third is f(3, 30, 300)\n",
    "<img src=\"map_iterator_diagram.png\" width=\"50%\" />\n",
    "<sub>John Sturtz. Functional Programming in Python: When and How to Use \n",
    "It. https://realpython.com/python-functional-programming/</sub>\n"
   ]
  },
  {
   "cell_type": "code",
   "execution_count": null,
   "id": "ecdc16ef",
   "metadata": {},
   "outputs": [],
   "source": []
  },
  {
   "cell_type": "code",
   "execution_count": null,
   "id": "15a74d18",
   "metadata": {},
   "outputs": [],
   "source": []
  },
  {
   "cell_type": "markdown",
   "id": "177ea64f",
   "metadata": {},
   "source": [
    "### Filter()\n",
    "* The **filter()** method filters the given sequence with the help of a function that tests each element in the sequence to be true or not.\n",
    "* filter() allows us to select or filter items from an iterable based on evaluation of the given function. It’s called as follows:\n",
    "\n",
    "_filter(\\<f\\>, \\<\\iterable\\>\\)_\n",
    "\n",
    "_filter(\\<f\\>, \\<\\iterable\\>\\)_ applies function \\<f\\> to each element of \\<iterable\\> and returns an iterator that yields all items for which \\<f\\> returns **True**. It filters out all items for which \\<f\\> returns **False**.\n",
    "\n",
    "* **Syntax**: filter(function, sequence)\n",
    "* **Parameters**:\n",
    "    * **function**: a function that tests if each element of a sequence true or not.\n",
    "    * **sequence**: sequence which needs to be filtered, it can be sets, lists, tuples, or containers of any iterators.\n",
    "* **Return Type**: returns an iterator that is already filtered.\n",
    "\n",
    "\n"
   ]
  },
  {
   "cell_type": "code",
   "execution_count": 17,
   "id": "faf1dd53",
   "metadata": {},
   "outputs": [],
   "source": [
    "# Example: function that filters vowels \n",
    "def fun(variable): \n",
    "    letters = ['a', 'e', 'i', 'o', 'u'] \n",
    "      \n",
    "    if (variable in letters): \n",
    "        return True\n",
    "    else: \n",
    "        return False"
   ]
  },
  {
   "cell_type": "code",
   "execution_count": 18,
   "id": "c3a12eb7",
   "metadata": {},
   "outputs": [
    {
     "name": "stdout",
     "output_type": "stream",
     "text": [
      "The filtered letters are:\n",
      "e\n",
      "e\n"
     ]
    }
   ],
   "source": [
    "# sequence \n",
    "sequence = ['g', 'e', 'e', 'j', 'k', 's', 'p', 'r'] \n",
    "    \n",
    "# using filter function \n",
    "filtered = filter(fun, sequence) \n",
    "    \n",
    "print('The filtered letters are:') \n",
    "  \n",
    "for s in filtered: \n",
    "    print(s) "
   ]
  },
  {
   "cell_type": "code",
   "execution_count": 59,
   "id": "fff8dede",
   "metadata": {},
   "outputs": [
    {
     "data": {
      "text/plain": [
       "[111, 222, 333]"
      ]
     },
     "execution_count": 59,
     "metadata": {},
     "output_type": "execute_result"
    }
   ],
   "source": [
    "# Example: greater_than_100(x) is True if x > 100:\n",
    "\n",
    "def greater_than_100(x):\n",
    "    return x > 100\n",
    "\n",
    "list(filter(greater_than_100, [1, 111, 2, 222, 3, 333]))"
   ]
  },
  {
   "cell_type": "code",
   "execution_count": 60,
   "id": "604bbcca",
   "metadata": {},
   "outputs": [
    {
     "data": {
      "text/plain": [
       "[0, 1, 2, 3, 4, 5, 6, 7, 8, 9]"
      ]
     },
     "execution_count": 60,
     "metadata": {},
     "output_type": "execute_result"
    }
   ],
   "source": [
    "# Example: filtering values from a range(). \n",
    "# range(n) produces an iterator that yields the integers \n",
    "# from 0 to n - 1. \n",
    "# The following example uses filter() to select only \n",
    "# the even numbers from the list and filter out the odd numbers:\n",
    "\n",
    "list(range(10))\n",
    "[0, 1, 2, 3, 4, 5, 6, 7, 8, 9]"
   ]
  },
  {
   "cell_type": "code",
   "execution_count": 61,
   "id": "8f68f728",
   "metadata": {},
   "outputs": [],
   "source": [
    "def is_even(x):\n",
    "    return x % 2 == 0"
   ]
  },
  {
   "cell_type": "code",
   "execution_count": 62,
   "id": "ebf2fae3",
   "metadata": {},
   "outputs": [
    {
     "data": {
      "text/plain": [
       "[0, 2, 4, 6, 8]"
      ]
     },
     "execution_count": 62,
     "metadata": {},
     "output_type": "execute_result"
    }
   ],
   "source": [
    "list(filter(is_even, range(10)))"
   ]
  },
  {
   "cell_type": "code",
   "execution_count": 63,
   "id": "8518833c",
   "metadata": {},
   "outputs": [],
   "source": [
    "# Example: using a built-in string method:\n",
    "animals = [\"cat\", \"Cat\", \"CAT\", \"dog\", \"Dog\", \"DOG\", \"emu\", \"Emu\", \"EMU\"]\n",
    "\n",
    "def all_caps(s):\n",
    "    return s.isupper()"
   ]
  },
  {
   "cell_type": "code",
   "execution_count": 64,
   "id": "764f37f7",
   "metadata": {},
   "outputs": [
    {
     "data": {
      "text/plain": [
       "['CAT', 'DOG', 'EMU']"
      ]
     },
     "execution_count": 64,
     "metadata": {},
     "output_type": "execute_result"
    }
   ],
   "source": [
    "list(filter(all_caps, animals))"
   ]
  },
  {
   "cell_type": "code",
   "execution_count": null,
   "id": "28689743",
   "metadata": {},
   "outputs": [],
   "source": []
  },
  {
   "cell_type": "markdown",
   "id": "49bf271d",
   "metadata": {},
   "source": [
    "### Lambda functions\n",
    "* In Python, anonymous function means that a function is without a name. \n",
    "* _def_ keyword is used to define the normal functions \n",
    "* _lambda_ keyword is used to create anonymous functions\n",
    "\n",
    "**Syntax:**\n",
    "\n",
    "_lambda arguments: expression_\n",
    "\n",
    "1. This function can have any number of arguments but only one expression, which is evaluated and returned.\n",
    "2. One is free to use lambda functions wherever function objects are required.\n",
    "3. You need to keep in your knowledge that lambda functions are syntactically restricted to a single expression.\n",
    "4. It has various uses in particular fields of programming besides other types of expressions in functions.\n",
    "\n",
    "**Technical note**: The term _lambda_ comes from lambda calculus, a formal system of mathematical logic for expressing computation based on function abstraction and application.\n",
    "\n",
    "The syntax of a lambda expression is as follows:\n",
    "\n",
    "_lambda \\<parameter_list\\>: \\<expression\\>_\n",
    "\n",
    "\n",
    "The following table summarizes the parts of a lambda expression:\n",
    "\n",
    "<table>\n",
    "    <tr>\n",
    "        <th>Component</th>\n",
    "        <th>Meaning</th>\n",
    "    </tr>\n",
    "    <tr>\n",
    "        <td>lambda</td>\n",
    "        <td>The keyword that introduces a lambda expression</td>\n",
    "    </tr>\n",
    "    <tr>\n",
    "        <td>parameter_list</td>\n",
    "        <td>An optional comma-separated list of parameter names\n",
    "    </tr>\n",
    "    <tr>\n",
    "        <td>:</td>\n",
    "        <td>Punctuation that separates parameter_list from expression</td>\n",
    "    </tr>\n",
    "    <tr>  \n",
    "        <td>expression</td>\n",
    "        <td>An expression usually involving the names in parameter_list</td>\n",
    "        </tr>\n",
    "</table>\n",
    "\n",
    "\n",
    "The value of a lambda expression is a callable function, just like a function defined with the def keyword. It takes arguments, as specified by \\<parameter_list\\>, and returns a value, as indicated by \\<expression\\>."
   ]
  },
  {
   "cell_type": "code",
   "execution_count": null,
   "id": "67f5b0ca",
   "metadata": {},
   "outputs": [],
   "source": []
  },
  {
   "cell_type": "code",
   "execution_count": 19,
   "id": "85f0f6a7",
   "metadata": {},
   "outputs": [
    {
     "name": "stdout",
     "output_type": "stream",
     "text": [
      "343\n"
     ]
    }
   ],
   "source": [
    "# Example 1\n",
    "cube = lambda x: x * x*x \n",
    "print(cube(7)) "
   ]
  },
  {
   "cell_type": "code",
   "execution_count": 21,
   "id": "9a295dc1",
   "metadata": {
    "scrolled": true
   },
   "outputs": [
    {
     "name": "stdout",
     "output_type": "stream",
     "text": [
      "[2, 4, 6]\n"
     ]
    }
   ],
   "source": [
    "# Example 2 - Comprehension\n",
    "data = [1, 3, 2, 4, 5, 6]\n",
    "is_even = [x for x in data if x % 2 == 0]\n",
    "  \n",
    "print(is_even)  "
   ]
  },
  {
   "cell_type": "code",
   "execution_count": 23,
   "id": "cf076260",
   "metadata": {},
   "outputs": [
    {
     "data": {
      "text/plain": [
       "True"
      ]
     },
     "execution_count": 23,
     "metadata": {},
     "output_type": "execute_result"
    }
   ],
   "source": [
    "# Example 3 - Callable\n",
    "lambda s: s[::-1]\n",
    "\n",
    "callable(lambda s: s[::-1])"
   ]
  },
  {
   "cell_type": "markdown",
   "id": "539cca57",
   "metadata": {},
   "source": [
    "#### Callable\n",
    "* A **callable** is something that can be called. \n",
    "* This built-in method in Python checks and returns:\n",
    "    * True if the object passed appears to be callable\n",
    "    * False if the object does not appear to be callable\n",
    "    \n",
    "Syntax:\n",
    "\n",
    "_callable(object)_\n",
    "\n",
    "* The **callable()** method takes only one argument, an object and returns one of the two values:\n",
    "    * returns True, if the object appears to be callable.\n",
    "    * returns False, if the object is not callable."
   ]
  },
  {
   "cell_type": "code",
   "execution_count": 24,
   "id": "d026aa99",
   "metadata": {},
   "outputs": [
    {
     "data": {
      "text/plain": [
       "True"
      ]
     },
     "execution_count": 24,
     "metadata": {},
     "output_type": "execute_result"
    }
   ],
   "source": [
    "# Example of a callable function\n",
    "def some_function():\n",
    "    return 5\n",
    "  \n",
    "callable(some_function)\n",
    "  "
   ]
  },
  {
   "cell_type": "code",
   "execution_count": 31,
   "id": "cc52fd5d",
   "metadata": {},
   "outputs": [
    {
     "name": "stdout",
     "output_type": "stream",
     "text": [
      "False\n",
      "True\n"
     ]
    }
   ],
   "source": [
    "# Example of a callable object\n",
    "class SomeObject:\n",
    "    def __init__(self):\n",
    "        self.some_property = True\n",
    "        \n",
    "    def hello_world():\n",
    "        return \"I am a callable method of SomeObject\"\n",
    "\n",
    "obj = SomeObject()\n",
    "# The object instantiation and the object constructor are NOT callable\n",
    "print(callable(obj))\n",
    "\n",
    "# A method of an object IS callable\n",
    "print(callable(obj.hello_world))"
   ]
  },
  {
   "cell_type": "code",
   "execution_count": 32,
   "id": "96faa08a",
   "metadata": {},
   "outputs": [
    {
     "name": "stdout",
     "output_type": "stream",
     "text": [
      "False\n"
     ]
    }
   ],
   "source": [
    "# Is a variable CALLABLE?\n",
    "num = 5 * 5\n",
    "print(callable(num))"
   ]
  },
  {
   "cell_type": "markdown",
   "id": "dd7081c4",
   "metadata": {},
   "source": [
    "#### Back to lambda()"
   ]
  },
  {
   "cell_type": "code",
   "execution_count": 34,
   "id": "7556283b",
   "metadata": {},
   "outputs": [
    {
     "data": {
      "text/plain": [
       "True"
      ]
     },
     "execution_count": 34,
     "metadata": {},
     "output_type": "execute_result"
    }
   ],
   "source": [
    "lambda s: s[::-1]\n",
    "callable(lambda s: s[::-1])\n",
    "\n"
   ]
  },
  {
   "cell_type": "markdown",
   "id": "3c699fc7",
   "metadata": {},
   "source": [
    "* The statement on line 1 is just the lambda expression by itself. \n",
    "* On line 2, Python displays the value of the expression, which you can see is a function.\n",
    "\n",
    "* The built-in Python function _callable()_ returns True if the argument passed to it appears to be callable and False otherwise. \n",
    "* This example shows that the value returned by the lambda expression is in fact **callable**, as a function should be.\n",
    "\n",
    "* In this case, the parameter list consists of the single parameter _s_. * The subsequent expression s[::-1] is slicing syntax that returns the characters in s in reverse order. \n",
    "* This lambda expression defines a temporary, nameless function that takes a string argument and returns the argument string with the characters reversed.\n",
    "\n"
   ]
  },
  {
   "cell_type": "markdown",
   "id": "b677aaf3",
   "metadata": {},
   "source": [
    "**Assignment lambda expressions to variables**\n",
    "The object created by a lambda expression is a first-class citizen, just like a standard function or any other object in Python. You can assign it to a variable and then call the function using that name:"
   ]
  },
  {
   "cell_type": "code",
   "execution_count": 35,
   "id": "4d186b7e",
   "metadata": {},
   "outputs": [
    {
     "data": {
      "text/plain": [
       "'gnirts a ma I'"
      ]
     },
     "execution_count": 35,
     "metadata": {},
     "output_type": "execute_result"
    }
   ],
   "source": [
    "reverse = lambda s: s[::-1]\n",
    "reverse(\"I am a string\")"
   ]
  },
  {
   "cell_type": "markdown",
   "id": "510c8e16",
   "metadata": {},
   "source": [
    "This is functionally equivalent to defining _reverse()_ with the _def_ keyword:"
   ]
  },
  {
   "cell_type": "code",
   "execution_count": 37,
   "id": "6f1475e4",
   "metadata": {},
   "outputs": [
    {
     "data": {
      "text/plain": [
       "'gnirts a ma I'"
      ]
     },
     "execution_count": 37,
     "metadata": {},
     "output_type": "execute_result"
    }
   ],
   "source": [
    "def reverse(s):\n",
    "    return s[::-1]\n",
    "\n",
    "reverse(\"I am a string\")"
   ]
  },
  {
   "cell_type": "code",
   "execution_count": 38,
   "id": "38a934e6",
   "metadata": {},
   "outputs": [
    {
     "data": {
      "text/plain": [
       "'gnirts a ma I'"
      ]
     },
     "execution_count": 38,
     "metadata": {},
     "output_type": "execute_result"
    }
   ],
   "source": [
    "reverse = lambda s: s[::-1]\n",
    "reverse(\"I am a string\")"
   ]
  },
  {
   "cell_type": "markdown",
   "id": "7055955e",
   "metadata": {},
   "source": [
    "**Note:** it’s not necessary to assign a variable to a lambda expression before calling it. You can also call the function defined by a lambda expression directly:"
   ]
  },
  {
   "cell_type": "code",
   "execution_count": 39,
   "id": "1aebaeac",
   "metadata": {},
   "outputs": [
    {
     "data": {
      "text/plain": [
       "'gnirts a ma I'"
      ]
     },
     "execution_count": 39,
     "metadata": {},
     "output_type": "execute_result"
    }
   ],
   "source": [
    "(lambda s: s[::-1])(\"I am a string\")"
   ]
  },
  {
   "cell_type": "code",
   "execution_count": 41,
   "id": "4d358f05",
   "metadata": {},
   "outputs": [
    {
     "data": {
      "text/plain": [
       "7.0"
      ]
     },
     "execution_count": 41,
     "metadata": {},
     "output_type": "execute_result"
    }
   ],
   "source": [
    "(lambda x1, x2, x3: (x1 + x2 + x3) / 3)(9, 6, 6)"
   ]
  },
  {
   "cell_type": "code",
   "execution_count": 40,
   "id": "39ca336d",
   "metadata": {},
   "outputs": [
    {
     "data": {
      "text/plain": [
       "1.0"
      ]
     },
     "execution_count": 40,
     "metadata": {},
     "output_type": "execute_result"
    }
   ],
   "source": [
    "(lambda x1, x2, x3: (x1 + x2 + x3) / 3)(1.4, 1.1, 0.5)"
   ]
  },
  {
   "cell_type": "markdown",
   "id": "5f750ec6",
   "metadata": {},
   "source": [
    "**Example: Sorting a list by element length**"
   ]
  },
  {
   "cell_type": "code",
   "execution_count": 45,
   "id": "98ea16d6",
   "metadata": {},
   "outputs": [
    {
     "data": {
      "text/plain": [
       "['ferret', 'gecko', 'vole', 'dog']"
      ]
     },
     "execution_count": 45,
     "metadata": {},
     "output_type": "execute_result"
    }
   ],
   "source": [
    "animals = [\"ferret\", \"vole\", \"dog\", \"gecko\"]\n",
    "\n",
    "def reverse_len(s):\n",
    "    # Note that we are prefixing minus to the return value\n",
    "    # to help us sort in DESCENDING order\n",
    "    return -len(s)\n",
    "\n",
    "sorted(animals, key=reverse_len)"
   ]
  },
  {
   "cell_type": "code",
   "execution_count": 46,
   "id": "5b335b02",
   "metadata": {},
   "outputs": [
    {
     "data": {
      "text/plain": [
       "['ferret', 'gecko', 'vole', 'dog']"
      ]
     },
     "execution_count": 46,
     "metadata": {},
     "output_type": "execute_result"
    }
   ],
   "source": [
    "# You could use a lambda function here as well:\n",
    "animals = [\"ferret\", \"vole\", \"dog\", \"gecko\"]\n",
    "sorted(animals, key=lambda s: -len(s))"
   ]
  },
  {
   "cell_type": "markdown",
   "id": "eb5a9727",
   "metadata": {},
   "source": [
    "**lambda function without parameters**\n",
    "* A lambda expression will typically have a parameter list, but it’s not required. \n",
    "* You can define a lambda function without parameters. \n",
    "* The return value is then not dependent on any input parameters."
   ]
  },
  {
   "cell_type": "code",
   "execution_count": 47,
   "id": "9aeb8c69",
   "metadata": {},
   "outputs": [
    {
     "data": {
      "text/plain": [
       "42"
      ]
     },
     "execution_count": 47,
     "metadata": {},
     "output_type": "execute_result"
    }
   ],
   "source": [
    "life_universe_everything = lambda: 42\n",
    "life_universe_everything()"
   ]
  },
  {
   "cell_type": "markdown",
   "id": "e38cf792",
   "metadata": {},
   "source": [
    "**lambda function return values**\n",
    "* We can only define fairly rudimentary functions with lambda. \n",
    "* The return value from a lambda expression can only be one **single** expression. \n",
    "* A lambda expression can’t contain statements like assignment or return, nor can it contain control structures such as for, while, if, else, or def."
   ]
  },
  {
   "cell_type": "markdown",
   "id": "d157a695",
   "metadata": {},
   "source": [
    "* A Python function defined with **def** can return multiple values. \n",
    "* If a return statement in a function contains several comma-separated values, then Python packs them and returns them as a tuple"
   ]
  },
  {
   "cell_type": "code",
   "execution_count": 49,
   "id": "355815ee",
   "metadata": {},
   "outputs": [
    {
     "data": {
      "text/plain": [
       "(3, 9, 27)"
      ]
     },
     "execution_count": 49,
     "metadata": {},
     "output_type": "execute_result"
    }
   ],
   "source": [
    "def func(x):\n",
    "    return x, x ** 2, x ** 3\n",
    "\n",
    "func(3)"
   ]
  },
  {
   "cell_type": "markdown",
   "id": "eaf6f646",
   "metadata": {},
   "source": [
    "This implicit tuple packing doesn’t work with an anonymous lambda function:"
   ]
  },
  {
   "cell_type": "code",
   "execution_count": 50,
   "id": "e40e00e7",
   "metadata": {},
   "outputs": [
    {
     "name": "stderr",
     "output_type": "stream",
     "text": [
      "<>:1: SyntaxWarning: 'tuple' object is not callable; perhaps you missed a comma?\n",
      "<>:1: SyntaxWarning: 'tuple' object is not callable; perhaps you missed a comma?\n",
      "/var/folders/g5/769syzw563n0bl73j5k78klc0000gn/T/ipykernel_41359/1458552151.py:1: SyntaxWarning: 'tuple' object is not callable; perhaps you missed a comma?\n",
      "  (lambda x: x, x ** 2, x ** 3)(3)\n"
     ]
    },
    {
     "ename": "NameError",
     "evalue": "name 'x' is not defined",
     "output_type": "error",
     "traceback": [
      "\u001b[0;31m---------------------------------------------------------------------------\u001b[0m",
      "\u001b[0;31mNameError\u001b[0m                                 Traceback (most recent call last)",
      "\u001b[0;32m/var/folders/g5/769syzw563n0bl73j5k78klc0000gn/T/ipykernel_41359/1458552151.py\u001b[0m in \u001b[0;36m<module>\u001b[0;34m\u001b[0m\n\u001b[0;32m----> 1\u001b[0;31m \u001b[0;34m(\u001b[0m\u001b[0;32mlambda\u001b[0m \u001b[0mx\u001b[0m\u001b[0;34m:\u001b[0m \u001b[0mx\u001b[0m\u001b[0;34m,\u001b[0m \u001b[0mx\u001b[0m \u001b[0;34m**\u001b[0m \u001b[0;36m2\u001b[0m\u001b[0;34m,\u001b[0m \u001b[0mx\u001b[0m \u001b[0;34m**\u001b[0m \u001b[0;36m3\u001b[0m\u001b[0;34m)\u001b[0m\u001b[0;34m(\u001b[0m\u001b[0;36m3\u001b[0m\u001b[0;34m)\u001b[0m\u001b[0;34m\u001b[0m\u001b[0;34m\u001b[0m\u001b[0m\n\u001b[0m",
      "\u001b[0;31mNameError\u001b[0m: name 'x' is not defined"
     ]
    }
   ],
   "source": [
    "(lambda x: x, x ** 2, x ** 3)(3)"
   ]
  },
  {
   "cell_type": "markdown",
   "id": "3b4e376c",
   "metadata": {},
   "source": [
    "* However, we can return a tuple from a lambda function. \n",
    "* We have to denote the tuple explicitly with parentheses. \n",
    "* We can also return a list or a dictionary from a lambda function:\n",
    "\n"
   ]
  },
  {
   "cell_type": "code",
   "execution_count": 51,
   "id": "0a46aecb",
   "metadata": {},
   "outputs": [
    {
     "data": {
      "text/plain": [
       "(3, 9, 27)"
      ]
     },
     "execution_count": 51,
     "metadata": {},
     "output_type": "execute_result"
    }
   ],
   "source": [
    "# Return a tuple\n",
    "(lambda x: (x, x ** 2, x ** 3))(3)\n"
   ]
  },
  {
   "cell_type": "code",
   "execution_count": 52,
   "id": "19eeb128",
   "metadata": {},
   "outputs": [
    {
     "data": {
      "text/plain": [
       "[3, 9, 27]"
      ]
     },
     "execution_count": 52,
     "metadata": {},
     "output_type": "execute_result"
    }
   ],
   "source": [
    "# Return a list\n",
    "(lambda x: [x, x ** 2, x ** 3])(3)\n"
   ]
  },
  {
   "cell_type": "code",
   "execution_count": 53,
   "id": "7b39bd45",
   "metadata": {},
   "outputs": [
    {
     "data": {
      "text/plain": [
       "{1: 3, 2: 9, 3: 27}"
      ]
     },
     "execution_count": 53,
     "metadata": {},
     "output_type": "execute_result"
    }
   ],
   "source": [
    "# Return a dictionary\n",
    "(lambda x: {1: x, 2: x ** 2, 3: x ** 3})(3)"
   ]
  },
  {
   "cell_type": "code",
   "execution_count": null,
   "id": "8925f752",
   "metadata": {},
   "outputs": [],
   "source": []
  },
  {
   "cell_type": "code",
   "execution_count": null,
   "id": "861bdbc6",
   "metadata": {},
   "outputs": [],
   "source": []
  },
  {
   "cell_type": "markdown",
   "id": "75bbe24a",
   "metadata": {},
   "source": [
    "### Immutability\n",
    "* Immutability is a functional programming paradigm can be used for debugging as it will throw an error where the variable is being changed not where the value is changed. \n",
    "* Python supports some immutable data types like string, tuple, numeric\n"
   ]
  },
  {
   "cell_type": "code",
   "execution_count": 22,
   "id": "44e7e37f",
   "metadata": {},
   "outputs": [
    {
     "ename": "TypeError",
     "evalue": "'str' object does not support item assignment",
     "output_type": "error",
     "traceback": [
      "\u001b[0;31m---------------------------------------------------------------------------\u001b[0m",
      "\u001b[0;31mTypeError\u001b[0m                                 Traceback (most recent call last)",
      "\u001b[0;32m/var/folders/g5/769syzw563n0bl73j5k78klc0000gn/T/ipykernel_41359/761319077.py\u001b[0m in \u001b[0;36m<module>\u001b[0;34m\u001b[0m\n\u001b[1;32m      4\u001b[0m \u001b[0;31m# changing the values will\u001b[0m\u001b[0;34m\u001b[0m\u001b[0;34m\u001b[0m\u001b[0m\n\u001b[1;32m      5\u001b[0m \u001b[0;31m# raise an error\u001b[0m\u001b[0;34m\u001b[0m\u001b[0;34m\u001b[0m\u001b[0m\n\u001b[0;32m----> 6\u001b[0;31m \u001b[0mimmutable\u001b[0m\u001b[0;34m[\u001b[0m\u001b[0;36m1\u001b[0m\u001b[0;34m]\u001b[0m \u001b[0;34m=\u001b[0m \u001b[0;34m'K'\u001b[0m\u001b[0;34m\u001b[0m\u001b[0;34m\u001b[0m\u001b[0m\n\u001b[0m",
      "\u001b[0;31mTypeError\u001b[0m: 'str' object does not support item assignment"
     ]
    }
   ],
   "source": [
    "# String data types\n",
    "immutable = \"This is a test of immutability\"\n",
    "  \n",
    "# changing the values will\n",
    "# raise an error\n",
    "immutable[1] = 'K'\n"
   ]
  },
  {
   "cell_type": "code",
   "execution_count": null,
   "id": "9206a0ca",
   "metadata": {},
   "outputs": [],
   "source": []
  }
 ],
 "metadata": {
  "kernelspec": {
   "display_name": "Python 3 (ipykernel)",
   "language": "python",
   "name": "python3"
  },
  "language_info": {
   "codemirror_mode": {
    "name": "ipython",
    "version": 3
   },
   "file_extension": ".py",
   "mimetype": "text/x-python",
   "name": "python",
   "nbconvert_exporter": "python",
   "pygments_lexer": "ipython3",
   "version": "3.9.13"
  }
 },
 "nbformat": 4,
 "nbformat_minor": 5
}
