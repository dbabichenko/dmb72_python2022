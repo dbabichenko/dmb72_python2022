{
 "cells": [
  {
   "cell_type": "code",
   "execution_count": 5,
   "metadata": {},
   "outputs": [],
   "source": [
    "import pandas as pd\n",
    "import numpy as np\n",
    "from sklearn.model_selection import train_test_split"
   ]
  },
  {
   "cell_type": "code",
   "execution_count": 6,
   "metadata": {},
   "outputs": [
    {
     "data": {
      "text/html": [
       "<div>\n",
       "<style scoped>\n",
       "    .dataframe tbody tr th:only-of-type {\n",
       "        vertical-align: middle;\n",
       "    }\n",
       "\n",
       "    .dataframe tbody tr th {\n",
       "        vertical-align: top;\n",
       "    }\n",
       "\n",
       "    .dataframe thead th {\n",
       "        text-align: right;\n",
       "    }\n",
       "</style>\n",
       "<table border=\"1\" class=\"dataframe\">\n",
       "  <thead>\n",
       "    <tr style=\"text-align: right;\">\n",
       "      <th></th>\n",
       "      <th>Pregnancies</th>\n",
       "      <th>Glucose</th>\n",
       "      <th>BloodPressure</th>\n",
       "      <th>SkinThickness</th>\n",
       "      <th>Insulin</th>\n",
       "      <th>BMI</th>\n",
       "      <th>DiabetesPedigreeFunction</th>\n",
       "      <th>Age</th>\n",
       "      <th>Outcome</th>\n",
       "    </tr>\n",
       "  </thead>\n",
       "  <tbody>\n",
       "    <tr>\n",
       "      <th>0</th>\n",
       "      <td>6</td>\n",
       "      <td>148</td>\n",
       "      <td>72</td>\n",
       "      <td>35</td>\n",
       "      <td>0</td>\n",
       "      <td>33.6</td>\n",
       "      <td>0.627</td>\n",
       "      <td>50</td>\n",
       "      <td>1</td>\n",
       "    </tr>\n",
       "    <tr>\n",
       "      <th>1</th>\n",
       "      <td>1</td>\n",
       "      <td>85</td>\n",
       "      <td>66</td>\n",
       "      <td>29</td>\n",
       "      <td>0</td>\n",
       "      <td>26.6</td>\n",
       "      <td>0.351</td>\n",
       "      <td>31</td>\n",
       "      <td>0</td>\n",
       "    </tr>\n",
       "    <tr>\n",
       "      <th>2</th>\n",
       "      <td>8</td>\n",
       "      <td>183</td>\n",
       "      <td>64</td>\n",
       "      <td>0</td>\n",
       "      <td>0</td>\n",
       "      <td>23.3</td>\n",
       "      <td>0.672</td>\n",
       "      <td>32</td>\n",
       "      <td>1</td>\n",
       "    </tr>\n",
       "    <tr>\n",
       "      <th>3</th>\n",
       "      <td>1</td>\n",
       "      <td>89</td>\n",
       "      <td>66</td>\n",
       "      <td>23</td>\n",
       "      <td>94</td>\n",
       "      <td>28.1</td>\n",
       "      <td>0.167</td>\n",
       "      <td>21</td>\n",
       "      <td>0</td>\n",
       "    </tr>\n",
       "    <tr>\n",
       "      <th>4</th>\n",
       "      <td>0</td>\n",
       "      <td>137</td>\n",
       "      <td>40</td>\n",
       "      <td>35</td>\n",
       "      <td>168</td>\n",
       "      <td>43.1</td>\n",
       "      <td>2.288</td>\n",
       "      <td>33</td>\n",
       "      <td>1</td>\n",
       "    </tr>\n",
       "  </tbody>\n",
       "</table>\n",
       "</div>"
      ],
      "text/plain": [
       "   Pregnancies  Glucose  BloodPressure  SkinThickness  Insulin   BMI  \\\n",
       "0            6      148             72             35        0  33.6   \n",
       "1            1       85             66             29        0  26.6   \n",
       "2            8      183             64              0        0  23.3   \n",
       "3            1       89             66             23       94  28.1   \n",
       "4            0      137             40             35      168  43.1   \n",
       "\n",
       "   DiabetesPedigreeFunction  Age  Outcome  \n",
       "0                     0.627   50        1  \n",
       "1                     0.351   31        0  \n",
       "2                     0.672   32        1  \n",
       "3                     0.167   21        0  \n",
       "4                     2.288   33        1  "
      ]
     },
     "execution_count": 6,
     "metadata": {},
     "output_type": "execute_result"
    }
   ],
   "source": [
    "df = pd.read_csv('pima_indians_diabetes.csv')\n",
    "df.head()"
   ]
  },
  {
   "cell_type": "code",
   "execution_count": 7,
   "metadata": {},
   "outputs": [
    {
     "data": {
      "text/plain": [
       "(768, 9)"
      ]
     },
     "execution_count": 7,
     "metadata": {},
     "output_type": "execute_result"
    }
   ],
   "source": [
    "df.shape"
   ]
  },
  {
   "cell_type": "code",
   "execution_count": 8,
   "metadata": {},
   "outputs": [],
   "source": [
    "x = df[['Pregnancies', 'Glucose', 'BloodPressure', 'SkinThickness', 'Insulin',\n",
    "       'BMI', 'DiabetesPedigreeFunction', 'Age']].to_numpy()\n",
    "y = df['Outcome'].to_numpy()\n",
    "x_train, x_test, y_train, y_test = train_test_split(x, y, test_size=0.2, random_state=42)"
   ]
  },
  {
   "cell_type": "code",
   "execution_count": 9,
   "metadata": {},
   "outputs": [
    {
     "name": "stderr",
     "output_type": "stream",
     "text": [
      "2022-11-30 13:32:08.524676: I tensorflow/core/platform/cpu_feature_guard.cc:193] This TensorFlow binary is optimized with oneAPI Deep Neural Network Library (oneDNN) to use the following CPU instructions in performance-critical operations:  AVX2 FMA\n",
      "To enable them in other operations, rebuild TensorFlow with the appropriate compiler flags.\n",
      "2022-11-30 13:32:12.158812: I tensorflow/core/platform/cpu_feature_guard.cc:193] This TensorFlow binary is optimized with oneAPI Deep Neural Network Library (oneDNN) to use the following CPU instructions in performance-critical operations:  AVX2 FMA\n",
      "To enable them in other operations, rebuild TensorFlow with the appropriate compiler flags.\n"
     ]
    }
   ],
   "source": [
    "from tensorflow.keras import models\n",
    "from tensorflow.keras import layers\n",
    "model = models.Sequential()\n",
    "model.add(layers.Dense(64, activation='relu', input_shape=(8,)))\n",
    "model.add(layers.Dense(64, activation='relu'))\n",
    "\n",
    "# The last layer uses a softmax activation. \n",
    "# It means the network will output a probability distribution over the 46\n",
    "# different output classes—for every input sample, the network will produce a 46-\n",
    "# dimensional output vector, where output[i] is the probability that the sample\n",
    "# belongs to class i. The 46 scores will sum to 1.\n",
    "model.add(layers.Dense(46, activation='softmax'))"
   ]
  },
  {
   "cell_type": "code",
   "execution_count": 10,
   "metadata": {},
   "outputs": [],
   "source": [
    "model.compile(optimizer='rmsprop',\n",
    "loss='sparse_categorical_crossentropy',\n",
    "metrics=['accuracy'])"
   ]
  },
  {
   "cell_type": "code",
   "execution_count": 11,
   "metadata": {},
   "outputs": [],
   "source": [
    "partial_x_train, x_val, partial_y_train, y_val = train_test_split(x_train, y_train, test_size=0.2, random_state=42)"
   ]
  },
  {
   "cell_type": "code",
   "execution_count": 12,
   "metadata": {},
   "outputs": [
    {
     "data": {
      "text/plain": [
       "(491, 8)"
      ]
     },
     "execution_count": 12,
     "metadata": {},
     "output_type": "execute_result"
    }
   ],
   "source": [
    "partial_x_train.shape"
   ]
  },
  {
   "cell_type": "code",
   "execution_count": 13,
   "metadata": {
    "scrolled": true
   },
   "outputs": [
    {
     "data": {
      "text/plain": [
       "(123, 8)"
      ]
     },
     "execution_count": 13,
     "metadata": {},
     "output_type": "execute_result"
    }
   ],
   "source": [
    "x_val.shape"
   ]
  },
  {
   "cell_type": "code",
   "execution_count": 14,
   "metadata": {},
   "outputs": [
    {
     "name": "stdout",
     "output_type": "stream",
     "text": [
      "Epoch 1/50\n",
      "2/2 [==============================] - 0s 145ms/step - loss: 21.3891 - accuracy: 0.0000e+00 - val_loss: 8.9981 - val_accuracy: 0.0407\n",
      "Epoch 2/50\n",
      "2/2 [==============================] - 0s 22ms/step - loss: 7.3245 - accuracy: 0.0774 - val_loss: 1.9381 - val_accuracy: 0.5285\n",
      "Epoch 3/50\n",
      "2/2 [==============================] - 0s 21ms/step - loss: 2.0051 - accuracy: 0.5071 - val_loss: 1.2116 - val_accuracy: 0.6341\n",
      "Epoch 4/50\n",
      "2/2 [==============================] - 0s 22ms/step - loss: 1.5035 - accuracy: 0.5458 - val_loss: 1.5094 - val_accuracy: 0.6585\n",
      "Epoch 5/50\n",
      "2/2 [==============================] - 0s 21ms/step - loss: 1.4358 - accuracy: 0.5825 - val_loss: 1.0960 - val_accuracy: 0.6667\n",
      "Epoch 6/50\n",
      "2/2 [==============================] - 0s 21ms/step - loss: 1.1190 - accuracy: 0.5967 - val_loss: 1.2697 - val_accuracy: 0.6585\n",
      "Epoch 7/50\n",
      "2/2 [==============================] - 0s 23ms/step - loss: 1.1463 - accuracy: 0.6314 - val_loss: 1.1289 - val_accuracy: 0.6341\n",
      "Epoch 8/50\n",
      "2/2 [==============================] - 0s 22ms/step - loss: 1.1988 - accuracy: 0.5784 - val_loss: 1.4174 - val_accuracy: 0.6504\n",
      "Epoch 9/50\n",
      "2/2 [==============================] - 0s 23ms/step - loss: 1.1504 - accuracy: 0.6477 - val_loss: 1.0363 - val_accuracy: 0.6504\n",
      "Epoch 10/50\n",
      "2/2 [==============================] - 0s 24ms/step - loss: 0.9774 - accuracy: 0.6069 - val_loss: 1.2687 - val_accuracy: 0.6585\n",
      "Epoch 11/50\n",
      "2/2 [==============================] - 0s 26ms/step - loss: 1.0683 - accuracy: 0.6212 - val_loss: 1.1162 - val_accuracy: 0.6504\n",
      "Epoch 12/50\n",
      "2/2 [==============================] - 0s 28ms/step - loss: 0.9614 - accuracy: 0.6314 - val_loss: 1.2420 - val_accuracy: 0.6585\n",
      "Epoch 13/50\n",
      "2/2 [==============================] - 0s 27ms/step - loss: 1.2263 - accuracy: 0.5723 - val_loss: 1.3144 - val_accuracy: 0.6585\n",
      "Epoch 14/50\n",
      "2/2 [==============================] - 0s 30ms/step - loss: 0.9248 - accuracy: 0.6517 - val_loss: 0.9478 - val_accuracy: 0.6748\n",
      "Epoch 15/50\n",
      "2/2 [==============================] - 0s 25ms/step - loss: 0.9759 - accuracy: 0.6334 - val_loss: 1.3656 - val_accuracy: 0.6423\n",
      "Epoch 16/50\n",
      "2/2 [==============================] - 0s 24ms/step - loss: 0.9903 - accuracy: 0.6477 - val_loss: 1.0528 - val_accuracy: 0.6423\n",
      "Epoch 17/50\n",
      "2/2 [==============================] - 0s 23ms/step - loss: 0.9757 - accuracy: 0.6069 - val_loss: 1.1858 - val_accuracy: 0.6341\n",
      "Epoch 18/50\n",
      "2/2 [==============================] - 0s 30ms/step - loss: 1.2155 - accuracy: 0.5866 - val_loss: 1.4899 - val_accuracy: 0.6423\n",
      "Epoch 19/50\n",
      "2/2 [==============================] - 0s 31ms/step - loss: 1.0729 - accuracy: 0.6477 - val_loss: 1.0123 - val_accuracy: 0.6423\n",
      "Epoch 20/50\n",
      "2/2 [==============================] - 0s 27ms/step - loss: 0.9863 - accuracy: 0.5967 - val_loss: 1.2806 - val_accuracy: 0.6423\n",
      "Epoch 21/50\n",
      "2/2 [==============================] - 0s 26ms/step - loss: 0.8729 - accuracy: 0.6558 - val_loss: 0.9643 - val_accuracy: 0.6667\n",
      "Epoch 22/50\n",
      "2/2 [==============================] - 0s 33ms/step - loss: 0.8485 - accuracy: 0.6069 - val_loss: 1.2402 - val_accuracy: 0.6585\n",
      "Epoch 23/50\n",
      "2/2 [==============================] - 0s 26ms/step - loss: 1.0334 - accuracy: 0.6171 - val_loss: 1.2490 - val_accuracy: 0.6585\n",
      "Epoch 24/50\n",
      "2/2 [==============================] - 0s 26ms/step - loss: 1.0940 - accuracy: 0.6334 - val_loss: 1.1926 - val_accuracy: 0.6585\n",
      "Epoch 25/50\n",
      "2/2 [==============================] - 0s 27ms/step - loss: 1.0318 - accuracy: 0.6456 - val_loss: 1.0996 - val_accuracy: 0.6504\n",
      "Epoch 26/50\n",
      "2/2 [==============================] - 0s 26ms/step - loss: 0.9515 - accuracy: 0.6293 - val_loss: 1.1444 - val_accuracy: 0.6504\n",
      "Epoch 27/50\n",
      "2/2 [==============================] - 0s 26ms/step - loss: 0.9824 - accuracy: 0.6395 - val_loss: 1.1288 - val_accuracy: 0.6504\n",
      "Epoch 28/50\n",
      "2/2 [==============================] - 0s 25ms/step - loss: 0.9168 - accuracy: 0.6253 - val_loss: 1.1394 - val_accuracy: 0.6504\n",
      "Epoch 29/50\n",
      "2/2 [==============================] - 0s 24ms/step - loss: 0.9271 - accuracy: 0.6232 - val_loss: 1.1777 - val_accuracy: 0.6585\n",
      "Epoch 30/50\n",
      "2/2 [==============================] - 0s 23ms/step - loss: 0.9801 - accuracy: 0.6314 - val_loss: 1.1640 - val_accuracy: 0.6585\n",
      "Epoch 31/50\n",
      "2/2 [==============================] - 0s 22ms/step - loss: 0.9202 - accuracy: 0.6456 - val_loss: 1.0926 - val_accuracy: 0.6829\n",
      "Epoch 32/50\n",
      "2/2 [==============================] - 0s 22ms/step - loss: 0.9104 - accuracy: 0.6314 - val_loss: 1.1823 - val_accuracy: 0.6585\n",
      "Epoch 33/50\n",
      "2/2 [==============================] - 0s 21ms/step - loss: 0.9909 - accuracy: 0.6375 - val_loss: 1.1327 - val_accuracy: 0.6585\n",
      "Epoch 34/50\n",
      "2/2 [==============================] - 0s 21ms/step - loss: 0.9360 - accuracy: 0.6415 - val_loss: 1.1005 - val_accuracy: 0.6667\n",
      "Epoch 35/50\n",
      "2/2 [==============================] - 0s 21ms/step - loss: 0.8803 - accuracy: 0.6375 - val_loss: 1.0680 - val_accuracy: 0.6423\n",
      "Epoch 36/50\n",
      "2/2 [==============================] - 0s 21ms/step - loss: 0.8912 - accuracy: 0.6517 - val_loss: 1.1758 - val_accuracy: 0.6585\n",
      "Epoch 37/50\n",
      "2/2 [==============================] - 0s 23ms/step - loss: 0.9111 - accuracy: 0.6558 - val_loss: 1.1430 - val_accuracy: 0.6585\n",
      "Epoch 38/50\n",
      "2/2 [==============================] - 0s 23ms/step - loss: 0.8391 - accuracy: 0.6762 - val_loss: 1.0719 - val_accuracy: 0.6667\n",
      "Epoch 39/50\n",
      "2/2 [==============================] - 0s 23ms/step - loss: 1.0650 - accuracy: 0.6151 - val_loss: 1.3089 - val_accuracy: 0.6423\n",
      "Epoch 40/50\n",
      "2/2 [==============================] - 0s 21ms/step - loss: 0.8672 - accuracy: 0.6701 - val_loss: 0.9453 - val_accuracy: 0.6585\n",
      "Epoch 41/50\n",
      "2/2 [==============================] - 0s 21ms/step - loss: 0.6986 - accuracy: 0.6843 - val_loss: 0.9936 - val_accuracy: 0.6667\n",
      "Epoch 42/50\n",
      "2/2 [==============================] - 0s 21ms/step - loss: 0.8807 - accuracy: 0.6375 - val_loss: 1.1452 - val_accuracy: 0.6341\n",
      "Epoch 43/50\n",
      "2/2 [==============================] - 0s 21ms/step - loss: 0.9903 - accuracy: 0.6497 - val_loss: 1.2808 - val_accuracy: 0.6423\n",
      "Epoch 44/50\n",
      "2/2 [==============================] - 0s 22ms/step - loss: 1.1309 - accuracy: 0.6130 - val_loss: 1.2133 - val_accuracy: 0.6423\n",
      "Epoch 45/50\n",
      "2/2 [==============================] - 0s 21ms/step - loss: 0.7916 - accuracy: 0.6986 - val_loss: 0.8914 - val_accuracy: 0.6748\n",
      "Epoch 46/50\n",
      "2/2 [==============================] - 0s 20ms/step - loss: 0.6870 - accuracy: 0.6864 - val_loss: 1.1106 - val_accuracy: 0.6667\n",
      "Epoch 47/50\n",
      "2/2 [==============================] - 0s 21ms/step - loss: 0.9908 - accuracy: 0.6212 - val_loss: 1.3566 - val_accuracy: 0.6423\n",
      "Epoch 48/50\n",
      "2/2 [==============================] - 0s 21ms/step - loss: 0.9785 - accuracy: 0.6599 - val_loss: 1.0718 - val_accuracy: 0.6585\n",
      "Epoch 49/50\n",
      "2/2 [==============================] - 0s 21ms/step - loss: 0.8139 - accuracy: 0.6802 - val_loss: 1.0726 - val_accuracy: 0.6667\n",
      "Epoch 50/50\n",
      "2/2 [==============================] - 0s 21ms/step - loss: 1.0221 - accuracy: 0.6273 - val_loss: 1.2200 - val_accuracy: 0.6423\n"
     ]
    }
   ],
   "source": [
    "history = model.fit(partial_x_train,\n",
    "partial_y_train,\n",
    "epochs=50,\n",
    "batch_size=256,\n",
    "validation_data=(x_val, y_val))"
   ]
  },
  {
   "cell_type": "code",
   "execution_count": 15,
   "metadata": {},
   "outputs": [
    {
     "data": {
      "image/png": "[encoded data removed]",
      "text/plain": [
       "<Figure size 640x480 with 1 Axes>"
      ]
     },
     "metadata": {},
     "output_type": "display_data"
    }
   ],
   "source": [
    "import matplotlib.pyplot as plt\n",
    "loss = history.history['loss']\n",
    "val_loss = history.history['val_loss']\n",
    "epochs = range(1, len(loss) + 1)\n",
    "plt.plot(epochs, loss, 'bo', label='Training loss')\n",
    "plt.plot(epochs, val_loss, 'b', label='Validation loss')\n",
    "plt.title('Training and validation loss')\n",
    "plt.xlabel('Epochs')\n",
    "plt.ylabel('Loss')\n",
    "plt.legend()\n",
    "plt.show()"
   ]
  },
  {
   "cell_type": "code",
   "execution_count": 16,
   "metadata": {},
   "outputs": [
    {
     "data": {
      "image/png": "[encoded data removed]",
      "text/plain": [
       "<Figure size 640x480 with 1 Axes>"
      ]
     },
     "metadata": {},
     "output_type": "display_data"
    }
   ],
   "source": [
    "plt.clf()\n",
    "acc = history.history['accuracy']\n",
    "val_acc = history.history['val_accuracy']\n",
    "plt.plot(epochs, acc, 'bo', label='Training acc')\n",
    "plt.plot(epochs, val_acc, 'b', label='Validation acc')\n",
    "plt.title('Training and validation accuracy')\n",
    "plt.xlabel('Epochs')\n",
    "plt.ylabel('Loss')\n",
    "plt.legend()\n",
    "plt.show()"
   ]
  },
  {
   "cell_type": "code",
   "execution_count": 17,
   "metadata": {},
   "outputs": [
    {
     "name": "stdout",
     "output_type": "stream",
     "text": [
      "Epoch 1/9\n",
      "1/1 [==============================] - 0s 418ms/step - loss: 31.6732 - accuracy: 0.0000e+00 - val_loss: 16.8813 - val_accuracy: 0.0244\n",
      "Epoch 2/9\n",
      "1/1 [==============================] - 0s 23ms/step - loss: 17.0492 - accuracy: 0.0122 - val_loss: 9.8978 - val_accuracy: 0.1057\n",
      "Epoch 3/9\n",
      "1/1 [==============================] - 0s 23ms/step - loss: 9.9221 - accuracy: 0.1018 - val_loss: 6.0460 - val_accuracy: 0.3171\n",
      "Epoch 4/9\n",
      "1/1 [==============================] - 0s 23ms/step - loss: 6.0851 - accuracy: 0.3299 - val_loss: 3.9071 - val_accuracy: 0.3902\n",
      "Epoch 5/9\n",
      "1/1 [==============================] - 0s 23ms/step - loss: 3.7976 - accuracy: 0.4277 - val_loss: 2.6712 - val_accuracy: 0.4390\n",
      "Epoch 6/9\n",
      "1/1 [==============================] - 0s 24ms/step - loss: 2.5578 - accuracy: 0.4807 - val_loss: 2.4614 - val_accuracy: 0.4797\n",
      "Epoch 7/9\n",
      "1/1 [==============================] - 0s 23ms/step - loss: 2.5333 - accuracy: 0.5173 - val_loss: 3.0779 - val_accuracy: 0.5854\n",
      "Epoch 8/9\n",
      "1/1 [==============================] - 0s 29ms/step - loss: 3.3868 - accuracy: 0.5743 - val_loss: 1.4911 - val_accuracy: 0.6098\n",
      "Epoch 9/9\n",
      "1/1 [==============================] - 0s 27ms/step - loss: 1.5801 - accuracy: 0.6171 - val_loss: 1.6407 - val_accuracy: 0.6585\n",
      "5/5 [==============================] - 0s 1ms/step - loss: 2.0856 - accuracy: 0.6494\n",
      "[2.08561372756958, 0.649350643157959]\n"
     ]
    }
   ],
   "source": [
    "model = models.Sequential()\n",
    "model.add(layers.Dense(64, activation='relu', input_shape=(8,)))\n",
    "model.add(layers.Dense(64, activation='relu'))\n",
    "model.add(layers.Dense(46, activation='softmax'))\n",
    "model.compile(optimizer='rmsprop',\n",
    "loss='sparse_categorical_crossentropy',\n",
    "metrics=['accuracy'])\n",
    "model.fit(partial_x_train,\n",
    "partial_y_train,\n",
    "epochs=9,\n",
    "batch_size=512,\n",
    "validation_data=(x_val, y_val))\n",
    "results = model.evaluate(x_test, y_test)\n",
    "\n",
    "print(results)"
   ]
  },
  {
   "cell_type": "code",
   "execution_count": 18,
   "metadata": {},
   "outputs": [
    {
     "name": "stdout",
     "output_type": "stream",
     "text": [
      "5/5 [==============================] - 0s 985us/step\n"
     ]
    }
   ],
   "source": [
    "predictions = model.predict(x_test)"
   ]
  },
  {
   "cell_type": "code",
   "execution_count": 19,
   "metadata": {},
   "outputs": [
    {
     "data": {
      "text/plain": [
       "array([  8.   , 107.   ,  80.   ,   0.   ,   0.   ,  24.6  ,   0.856,\n",
       "        34.   ])"
      ]
     },
     "execution_count": 19,
     "metadata": {},
     "output_type": "execute_result"
    }
   ],
   "source": [
    "x_test[3]"
   ]
  },
  {
   "cell_type": "code",
   "execution_count": 20,
   "metadata": {},
   "outputs": [
    {
     "data": {
      "text/plain": [
       "0"
      ]
     },
     "execution_count": 20,
     "metadata": {},
     "output_type": "execute_result"
    }
   ],
   "source": [
    "np.argmax(predictions[3])"
   ]
  },
  {
   "cell_type": "code",
   "execution_count": null,
   "metadata": {},
   "outputs": [],
   "source": []
  }
 ],
 "metadata": {
  "kernelspec": {
   "display_name": "Python 3 (ipykernel)",
   "language": "python",
   "name": "python3"
  },
  "language_info": {
   "codemirror_mode": {
    "name": "ipython",
    "version": 3
   },
   "file_extension": ".py",
   "mimetype": "text/x-python",
   "name": "python",
   "nbconvert_exporter": "python",
   "pygments_lexer": "ipython3",
   "version": "3.9.13"
  }
 },
 "nbformat": 4,
 "nbformat_minor": 4
}
